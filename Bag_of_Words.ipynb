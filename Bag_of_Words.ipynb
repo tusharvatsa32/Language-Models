{
  "nbformat": 4,
  "nbformat_minor": 0,
  "metadata": {
    "colab": {
      "name": "Bag_of_Words.ipynb",
      "provenance": [],
      "toc_visible": true,
      "authorship_tag": "ABX9TyOWXktt7ZHz0xKhcSAn6DQl",
      "include_colab_link": true
    },
    "kernelspec": {
      "name": "python3",
      "display_name": "Python 3"
    }
  },
  "cells": [
    {
      "cell_type": "markdown",
      "metadata": {
        "id": "view-in-github",
        "colab_type": "text"
      },
      "source": [
        "<a href=\"https://colab.research.google.com/github/tusharvatsa32/Language-Models/blob/main/Bag_of_Words.ipynb\" target=\"_parent\"><img src=\"https://colab.research.google.com/assets/colab-badge.svg\" alt=\"Open In Colab\"/></a>"
      ]
    },
    {
      "cell_type": "code",
      "metadata": {
        "colab": {
          "base_uri": "https://localhost:8080/"
        },
        "id": "netZxKgyyLFf",
        "outputId": "ddb83b1c-63b1-46a1-c42b-0b3000a951f9"
      },
      "source": [
        "pip install dynet"
      ],
      "execution_count": 2,
      "outputs": [
        {
          "output_type": "stream",
          "text": [
            "Collecting dynet\n",
            "\u001b[?25l  Downloading https://files.pythonhosted.org/packages/9d/73/b5435275aa9b00f21a7aa7f50bb476a3768d6c0b9cfffde09b39035a7019/dyNET-2.1.2-cp36-cp36m-manylinux1_x86_64.whl (4.4MB)\n",
            "\u001b[K     |████████████████████████████████| 4.5MB 11.8MB/s \n",
            "\u001b[?25hRequirement already satisfied: cython in /usr/local/lib/python3.6/dist-packages (from dynet) (0.29.21)\n",
            "Requirement already satisfied: numpy in /usr/local/lib/python3.6/dist-packages (from dynet) (1.19.5)\n",
            "Installing collected packages: dynet\n",
            "Successfully installed dynet-2.1.2\n"
          ],
          "name": "stdout"
        }
      ]
    },
    {
      "cell_type": "code",
      "metadata": {
        "id": "nWAvtJziy6s8"
      },
      "source": [
        "from collections import defaultdict\n",
        "import time\n",
        "import random\n",
        "import dynet as dy\n",
        "import numpy as np"
      ],
      "execution_count": 3,
      "outputs": []
    },
    {
      "cell_type": "code",
      "metadata": {
        "colab": {
          "base_uri": "https://localhost:8080/"
        },
        "id": "n2Jl68nTmh0f",
        "outputId": "c79023ef-5549-495f-8b4a-2c2ce5aa7d2f"
      },
      "source": [
        "!git clone https://github.com/tusharvatsa32/nn4nlp-code.git"
      ],
      "execution_count": 6,
      "outputs": [
        {
          "output_type": "stream",
          "text": [
            "Cloning into 'nn4nlp-code'...\n",
            "remote: Enumerating objects: 545, done.\u001b[K\n",
            "remote: Total 545 (delta 0), reused 0 (delta 0), pack-reused 545\u001b[K\n",
            "Receiving objects: 100% (545/545), 11.92 MiB | 3.49 MiB/s, done.\n",
            "Resolving deltas: 100% (217/217), done.\n"
          ],
          "name": "stdout"
        }
      ]
    },
    {
      "cell_type": "code",
      "metadata": {
        "id": "OHh8b3dooDxp"
      },
      "source": [
        "w2i = defaultdict(lambda: len(w2i))\n",
        "t2i = defaultdict(lambda: len(t2i))\n",
        "UNK = w2i[\"<unk>\"]\n",
        "def read_dataset(filename):\n",
        "  with open(filename, \"r\") as f:\n",
        "    for line in f:\n",
        "      tag, words = line.lower().strip().split(\" ||| \")\n",
        "      yield ([w2i[x] for x in words.split(\" \")], t2i[tag])\n"
      ],
      "execution_count": 42,
      "outputs": []
    },
    {
      "cell_type": "code",
      "metadata": {
        "colab": {
          "base_uri": "https://localhost:8080/"
        },
        "id": "-ZjswXwGoGTF",
        "outputId": "326b3a8a-63af-47c3-832c-141e7ea05b6d"
      },
      "source": [
        "train = list(read_dataset(\"nn4nlp-code/data/classes/train.txt\"))\n",
        "print(train[0])\n",
        "w2i = defaultdict(lambda: UNK, w2i)\n",
        "dev = list(read_dataset(\"nn4nlp-code/data/classes/test.txt\"))\n",
        "nwords = len(w2i)\n",
        "ntags = len(t2i)\n",
        "print(nwords,ntags)\n"
      ],
      "execution_count": 43,
      "outputs": [
        {
          "output_type": "stream",
          "text": [
            "([1, 2, 3, 4, 5, 6, 1, 7, 8, 9, 10, 11, 12, 13, 14, 15, 16, 9, 17, 5, 18, 19, 20, 21, 22, 23, 24, 25, 26, 27, 28, 29, 30, 31, 32, 33], 0)\n",
            "18648 5\n"
          ],
          "name": "stdout"
        }
      ]
    },
    {
      "cell_type": "code",
      "metadata": {
        "colab": {
          "base_uri": "https://localhost:8080/"
        },
        "id": "diUmudp6qhmn",
        "outputId": "a329fb26-9410-4f60-8858-e66437a11468"
      },
      "source": [
        "print(train[0])\n",
        "print(train[1])\n",
        "print(train[2])\n",
        "print(len(train[0][0]),len(train[1][0]),len(train[2][0]))"
      ],
      "execution_count": 44,
      "outputs": [
        {
          "output_type": "stream",
          "text": [
            "([1, 2, 3, 4, 5, 6, 1, 7, 8, 9, 10, 11, 12, 13, 14, 15, 16, 9, 17, 5, 18, 19, 20, 21, 22, 23, 24, 25, 26, 27, 28, 29, 30, 31, 32, 33], 0)\n",
            "([1, 34, 35, 36, 37, 11, 1, 38, 37, 1, 39, 13, 40, 3, 41, 42, 15, 19, 43, 37, 44, 45, 46, 47, 48, 49, 50, 51, 9, 52, 53, 37, 54, 55, 9, 56, 33], 1)\n",
            "([57, 58, 59, 60, 19, 61, 37, 62, 63, 19, 64, 65, 66, 26, 19, 64, 67, 68, 69, 5, 1, 70, 63, 71, 1, 72, 73, 74, 75, 1, 76, 26, 77, 26, 78, 37, 1, 79, 33], 0)\n",
            "36 37 39\n"
          ],
          "name": "stdout"
        }
      ]
    },
    {
      "cell_type": "code",
      "metadata": {
        "id": "f-Mdy0mYtk78"
      },
      "source": [
        "# Start DyNet and define trainer\n",
        "model = dy.Model()\n",
        "trainer = dy.AdamTrainer(model)"
      ],
      "execution_count": 45,
      "outputs": []
    },
    {
      "cell_type": "code",
      "metadata": {
        "id": "_fa3P6yMtzNu"
      },
      "source": [
        "W_sm = model.add_lookup_parameters((nwords, ntags)) # Word weights\n",
        "b_sm = model.add_parameters((ntags))                # Softmax bias"
      ],
      "execution_count": 46,
      "outputs": []
    },
    {
      "cell_type": "code",
      "metadata": {
        "id": "bXdPfWNNt2nz"
      },
      "source": [
        "def calc_scores(words):\n",
        "  dy.renew_cg()\n",
        "  score = dy.esum([dy.lookup(W_sm, x) for x in words])\n",
        "  b_sm_exp = dy.parameter(b_sm)\n",
        "  return score + b_sm_exp\n"
      ],
      "execution_count": 47,
      "outputs": []
    },
    {
      "cell_type": "code",
      "metadata": {
        "colab": {
          "base_uri": "https://localhost:8080/"
        },
        "id": "OmViUXeBuCMJ",
        "outputId": "5cbda4cb-8c82-40ac-e692-e1630f299de9"
      },
      "source": [
        "for ITER in range(100):\n",
        "  # Perform training\n",
        "  random.shuffle(train)\n",
        "  train_loss = 0.0\n",
        "  start = time.time()\n",
        "  for words, tag in train:\n",
        "    my_loss = dy.pickneglogsoftmax(calc_scores(words), tag)\n",
        "    train_loss += my_loss.value()\n",
        "    my_loss.backward()\n",
        "    trainer.update()\n",
        "  print(\"iter %r: train loss/sent=%.4f, time=%.2fs\" % (ITER, train_loss/len(train), time.time()-start))\n",
        "  # Perform testing\n",
        "  test_correct = 0.0\n",
        "  for words, tag in dev:\n",
        "    scores = calc_scores(words).npvalue()\n",
        "    predict = np.argmax(scores)\n",
        "    if predict == tag:\n",
        "      test_correct += 1\n",
        "  print(\"iter %r: test acc=%.4f\" % (ITER, test_correct/len(dev)))"
      ],
      "execution_count": 48,
      "outputs": [
        {
          "output_type": "stream",
          "text": [
            "iter 0: train loss/sent=1.5153, time=0.28s\n",
            "iter 0: test acc=0.3643\n",
            "iter 1: train loss/sent=1.3391, time=0.26s\n",
            "iter 1: test acc=0.3729\n",
            "iter 2: train loss/sent=1.2359, time=0.26s\n",
            "iter 2: test acc=0.3896\n",
            "iter 3: train loss/sent=1.1567, time=0.27s\n",
            "iter 3: test acc=0.3982\n",
            "iter 4: train loss/sent=1.0924, time=0.30s\n",
            "iter 4: test acc=0.4036\n",
            "iter 5: train loss/sent=1.0373, time=0.25s\n",
            "iter 5: test acc=0.4158\n",
            "iter 6: train loss/sent=0.9907, time=0.28s\n",
            "iter 6: test acc=0.4059\n",
            "iter 7: train loss/sent=0.9488, time=0.27s\n",
            "iter 7: test acc=0.4100\n",
            "iter 8: train loss/sent=0.9129, time=0.27s\n",
            "iter 8: test acc=0.4095\n",
            "iter 9: train loss/sent=0.8799, time=0.27s\n",
            "iter 9: test acc=0.4217\n",
            "iter 10: train loss/sent=0.8494, time=0.27s\n",
            "iter 10: test acc=0.4222\n",
            "iter 11: train loss/sent=0.8225, time=0.28s\n",
            "iter 11: test acc=0.4186\n",
            "iter 12: train loss/sent=0.7978, time=0.26s\n",
            "iter 12: test acc=0.4072\n",
            "iter 13: train loss/sent=0.7745, time=0.27s\n",
            "iter 13: test acc=0.4163\n",
            "iter 14: train loss/sent=0.7536, time=0.30s\n",
            "iter 14: test acc=0.4122\n",
            "iter 15: train loss/sent=0.7338, time=0.25s\n",
            "iter 15: test acc=0.4172\n",
            "iter 16: train loss/sent=0.7157, time=0.25s\n",
            "iter 16: test acc=0.4186\n",
            "iter 17: train loss/sent=0.6989, time=0.27s\n",
            "iter 17: test acc=0.4186\n",
            "iter 18: train loss/sent=0.6829, time=0.26s\n",
            "iter 18: test acc=0.4190\n",
            "iter 19: train loss/sent=0.6677, time=0.26s\n",
            "iter 19: test acc=0.4167\n",
            "iter 20: train loss/sent=0.6534, time=0.28s\n",
            "iter 20: test acc=0.4113\n",
            "iter 21: train loss/sent=0.6404, time=0.26s\n",
            "iter 21: test acc=0.4258\n",
            "iter 22: train loss/sent=0.6275, time=0.25s\n",
            "iter 22: test acc=0.4181\n",
            "iter 23: train loss/sent=0.6160, time=0.28s\n",
            "iter 23: test acc=0.4122\n",
            "iter 24: train loss/sent=0.6044, time=0.27s\n",
            "iter 24: test acc=0.4244\n",
            "iter 25: train loss/sent=0.5939, time=0.26s\n",
            "iter 25: test acc=0.4100\n",
            "iter 26: train loss/sent=0.5837, time=0.25s\n",
            "iter 26: test acc=0.4158\n",
            "iter 27: train loss/sent=0.5738, time=0.26s\n",
            "iter 27: test acc=0.4149\n",
            "iter 28: train loss/sent=0.5642, time=0.26s\n",
            "iter 28: test acc=0.4204\n",
            "iter 29: train loss/sent=0.5556, time=0.28s\n",
            "iter 29: test acc=0.4195\n",
            "iter 30: train loss/sent=0.5474, time=0.26s\n",
            "iter 30: test acc=0.4172\n",
            "iter 31: train loss/sent=0.5389, time=0.26s\n",
            "iter 31: test acc=0.4086\n",
            "iter 32: train loss/sent=0.5309, time=0.28s\n",
            "iter 32: test acc=0.4186\n",
            "iter 33: train loss/sent=0.5236, time=0.26s\n",
            "iter 33: test acc=0.4167\n",
            "iter 34: train loss/sent=0.5159, time=0.28s\n",
            "iter 34: test acc=0.4163\n",
            "iter 35: train loss/sent=0.5089, time=0.26s\n",
            "iter 35: test acc=0.4068\n",
            "iter 36: train loss/sent=0.5021, time=0.26s\n",
            "iter 36: test acc=0.4140\n",
            "iter 37: train loss/sent=0.4955, time=0.27s\n",
            "iter 37: test acc=0.4158\n",
            "iter 38: train loss/sent=0.4893, time=0.29s\n",
            "iter 38: test acc=0.4154\n",
            "iter 39: train loss/sent=0.4832, time=0.26s\n",
            "iter 39: test acc=0.4027\n",
            "iter 40: train loss/sent=0.4771, time=0.27s\n",
            "iter 40: test acc=0.4077\n",
            "iter 41: train loss/sent=0.4715, time=0.26s\n",
            "iter 41: test acc=0.4190\n",
            "iter 42: train loss/sent=0.4661, time=0.28s\n",
            "iter 42: test acc=0.4086\n",
            "iter 43: train loss/sent=0.4607, time=0.27s\n",
            "iter 43: test acc=0.4122\n",
            "iter 44: train loss/sent=0.4555, time=0.28s\n",
            "iter 44: test acc=0.4032\n",
            "iter 45: train loss/sent=0.4504, time=0.26s\n",
            "iter 45: test acc=0.4081\n",
            "iter 46: train loss/sent=0.4457, time=0.27s\n",
            "iter 46: test acc=0.4113\n",
            "iter 47: train loss/sent=0.4410, time=0.26s\n",
            "iter 47: test acc=0.4109\n",
            "iter 48: train loss/sent=0.4361, time=0.27s\n",
            "iter 48: test acc=0.4145\n",
            "iter 49: train loss/sent=0.4317, time=0.26s\n",
            "iter 49: test acc=0.4131\n",
            "iter 50: train loss/sent=0.4272, time=0.27s\n",
            "iter 50: test acc=0.4081\n",
            "iter 51: train loss/sent=0.4225, time=0.26s\n",
            "iter 51: test acc=0.4081\n",
            "iter 52: train loss/sent=0.4187, time=0.26s\n",
            "iter 52: test acc=0.4005\n",
            "iter 53: train loss/sent=0.4148, time=0.28s\n",
            "iter 53: test acc=0.4136\n",
            "iter 54: train loss/sent=0.4108, time=0.26s\n",
            "iter 54: test acc=0.4045\n",
            "iter 55: train loss/sent=0.4069, time=0.28s\n",
            "iter 55: test acc=0.4122\n",
            "iter 56: train loss/sent=0.4032, time=0.27s\n",
            "iter 56: test acc=0.4050\n",
            "iter 57: train loss/sent=0.3991, time=0.26s\n",
            "iter 57: test acc=0.4041\n",
            "iter 58: train loss/sent=0.3958, time=0.26s\n",
            "iter 58: test acc=0.3973\n",
            "iter 59: train loss/sent=0.3920, time=0.27s\n",
            "iter 59: test acc=0.3959\n",
            "iter 60: train loss/sent=0.3889, time=0.27s\n",
            "iter 60: test acc=0.3982\n",
            "iter 61: train loss/sent=0.3855, time=0.27s\n",
            "iter 61: test acc=0.4032\n",
            "iter 62: train loss/sent=0.3821, time=0.28s\n",
            "iter 62: test acc=0.3991\n",
            "iter 63: train loss/sent=0.3790, time=0.26s\n",
            "iter 63: test acc=0.4027\n",
            "iter 64: train loss/sent=0.3758, time=0.29s\n",
            "iter 64: test acc=0.4077\n",
            "iter 65: train loss/sent=0.3727, time=0.27s\n",
            "iter 65: test acc=0.4027\n",
            "iter 66: train loss/sent=0.3694, time=0.27s\n",
            "iter 66: test acc=0.3982\n",
            "iter 67: train loss/sent=0.3666, time=0.26s\n",
            "iter 67: test acc=0.4104\n",
            "iter 68: train loss/sent=0.3638, time=0.29s\n",
            "iter 68: test acc=0.4059\n",
            "iter 69: train loss/sent=0.3607, time=0.27s\n",
            "iter 69: test acc=0.4041\n",
            "iter 70: train loss/sent=0.3579, time=0.26s\n",
            "iter 70: test acc=0.4054\n",
            "iter 71: train loss/sent=0.3553, time=0.28s\n",
            "iter 71: test acc=0.4054\n",
            "iter 72: train loss/sent=0.3525, time=0.27s\n",
            "iter 72: test acc=0.4158\n",
            "iter 73: train loss/sent=0.3498, time=0.27s\n",
            "iter 73: test acc=0.4041\n",
            "iter 74: train loss/sent=0.3471, time=0.28s\n",
            "iter 74: test acc=0.4081\n",
            "iter 75: train loss/sent=0.3446, time=0.26s\n",
            "iter 75: test acc=0.4009\n",
            "iter 76: train loss/sent=0.3419, time=0.27s\n",
            "iter 76: test acc=0.4036\n",
            "iter 77: train loss/sent=0.3396, time=0.26s\n",
            "iter 77: test acc=0.4086\n",
            "iter 78: train loss/sent=0.3370, time=0.26s\n",
            "iter 78: test acc=0.4086\n",
            "iter 79: train loss/sent=0.3348, time=0.26s\n",
            "iter 79: test acc=0.4063\n",
            "iter 80: train loss/sent=0.3324, time=0.27s\n",
            "iter 80: test acc=0.4009\n",
            "iter 81: train loss/sent=0.3301, time=0.27s\n",
            "iter 81: test acc=0.4045\n",
            "iter 82: train loss/sent=0.3277, time=0.27s\n",
            "iter 82: test acc=0.4127\n",
            "iter 83: train loss/sent=0.3256, time=0.28s\n",
            "iter 83: test acc=0.4018\n",
            "iter 84: train loss/sent=0.3230, time=0.26s\n",
            "iter 84: test acc=0.4050\n",
            "iter 85: train loss/sent=0.3211, time=0.26s\n",
            "iter 85: test acc=0.4036\n",
            "iter 86: train loss/sent=0.3188, time=0.26s\n",
            "iter 86: test acc=0.3959\n",
            "iter 87: train loss/sent=0.3169, time=0.25s\n",
            "iter 87: test acc=0.3986\n",
            "iter 88: train loss/sent=0.3147, time=0.27s\n",
            "iter 88: test acc=0.4077\n",
            "iter 89: train loss/sent=0.3127, time=0.27s\n",
            "iter 89: test acc=0.3986\n",
            "iter 90: train loss/sent=0.3107, time=0.27s\n",
            "iter 90: test acc=0.4041\n",
            "iter 91: train loss/sent=0.3088, time=0.28s\n",
            "iter 91: test acc=0.4050\n",
            "iter 92: train loss/sent=0.3067, time=0.28s\n",
            "iter 92: test acc=0.3919\n",
            "iter 93: train loss/sent=0.3047, time=0.26s\n",
            "iter 93: test acc=0.3955\n",
            "iter 94: train loss/sent=0.3028, time=0.29s\n",
            "iter 94: test acc=0.4014\n",
            "iter 95: train loss/sent=0.3010, time=0.28s\n",
            "iter 95: test acc=0.4036\n",
            "iter 96: train loss/sent=0.2992, time=0.25s\n",
            "iter 96: test acc=0.3977\n",
            "iter 97: train loss/sent=0.2974, time=0.27s\n",
            "iter 97: test acc=0.4005\n",
            "iter 98: train loss/sent=0.2954, time=0.27s\n",
            "iter 98: test acc=0.4032\n",
            "iter 99: train loss/sent=0.2936, time=0.27s\n",
            "iter 99: test acc=0.4023\n"
          ],
          "name": "stdout"
        }
      ]
    },
    {
      "cell_type": "code",
      "metadata": {
        "id": "nycuxx8S3gwt"
      },
      "source": [
        ""
      ],
      "execution_count": null,
      "outputs": []
    }
  ]
}